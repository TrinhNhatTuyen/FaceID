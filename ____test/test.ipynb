{
 "cells": [
  {
   "cell_type": "code",
   "execution_count": null,
   "metadata": {},
   "outputs": [
    {
     "ename": "",
     "evalue": "",
     "output_type": "error",
     "traceback": [
      "\u001b[1;31mFailed to start the Kernel. \n",
      "\u001b[1;31m[ WARN:0@0.142] global D:\\a\\opencv-python\\opencv-python\\opencv\\modules\\imgcodecs\\src\\loadsave.cpp (239) cv::findDecoder imread_('hinhanh/NV_2027/HS_2027_PKCLLXBGGP_IMG_1201.jpg'): can't open/read file: check file path/integrity\n",
      "\u001b[1;31mTraceback (most recent call last):\n",
      "\u001b[1;31m  File \"c:\\Users\\Administrator\\anaconda3\\envs\\env1\\lib\\runpy.py\", line 196, in _run_module_as_main\n",
      "\u001b[1;31m    return _run_code(code, main_globals, None,\n",
      "\u001b[1;31m  File \"c:\\Users\\Administrator\\anaconda3\\envs\\env1\\lib\\runpy.py\", line 86, in _run_code\n",
      "\u001b[1;31m    exec(code, run_globals)\n",
      "\u001b[1;31m  File \"c:\\Users\\Administrator\\anaconda3\\envs\\env1\\lib\\site-packages\\ipykernel_launcher.py\", line 15, in <module>\n",
      "\u001b[1;31m    from ipykernel import kernelapp as app\n",
      "\u001b[1;31m  File \"c:\\Users\\Administrator\\anaconda3\\envs\\env1\\lib\\site-packages\\ipykernel\\__init__.py\", line 5, in <module>\n",
      "\u001b[1;31m    from .connect import *  # noqa\n",
      "\u001b[1;31m  File \"c:\\Users\\Administrator\\anaconda3\\envs\\env1\\lib\\site-packages\\ipykernel\\connect.py\", line 11, in <module>\n",
      "\u001b[1;31m    import jupyter_client\n",
      "\u001b[1;31m  File \"c:\\Users\\Administrator\\anaconda3\\envs\\env1\\lib\\site-packages\\jupyter_client\\__init__.py\", line 3, in <module>\n",
      "\u001b[1;31m    from .asynchronous import AsyncKernelClient\n",
      "\u001b[1;31m  File \"c:\\Users\\Administrator\\anaconda3\\envs\\env1\\lib\\site-packages\\jupyter_client\\asynchronous\\__init__.py\", line 1, in <module>\n",
      "\u001b[1;31m    from .client import AsyncKernelClient  # noqa\n",
      "\u001b[1;31m  File \"c:\\Users\\Administrator\\anaconda3\\envs\\env1\\lib\\site-packages\\jupyter_client\\asynchronous\\client.py\", line 5, in <module>\n",
      "\u001b[1;31m    import zmq.asyncio\n",
      "\u001b[1;31m  File \"c:\\Users\\Administrator\\anaconda3\\envs\\env1\\lib\\site-packages\\zmq\\asyncio.py\", line 9, in <module>\n",
      "\u001b[1;31m    import asyncio\n",
      "\u001b[1;31m  File \"c:\\Users\\Administrator\\anaconda3\\envs\\env1\\lib\\asyncio\\__init__.py\", line 8, in <module>\n",
      "\u001b[1;31m    from .base_events import *\n",
      "\u001b[1;31m  File \"c:\\Users\\Administrator\\anaconda3\\envs\\env1\\lib\\asyncio\\base_events.py\", line 34, in <module>\n",
      "\u001b[1;31m    import ssl\n",
      "\u001b[1;31m  File \"c:\\Users\\Administrator\\anaconda3\\envs\\env1\\lib\\ssl.py\", line 259, in <module>\n",
      "\u001b[1;31m    import base64        # for DER-to-PEM translation\n",
      "\u001b[1;31m  File \"d:\\Code\\FaceID\\____test\\base64.py\", line 21, in <module>\n",
      "\u001b[1;31m    detected_face1 = cv2.resize(cv2.imread('hinhanh/NV_2027/'+tenha), (224, 224)) #resize to 224x224\n",
      "\u001b[1;31mcv2.error: OpenCV(4.6.0) D:\\a\\opencv-python\\opencv-python\\opencv\\modules\\imgproc\\src\\resize.cpp:4052: error: (-215:Assertion failed) !ssize.empty() in function 'cv::resize'. \n",
      "\u001b[1;31mView Jupyter <a href='command:jupyter.viewOutput'>log</a> for further details."
     ]
    }
   ],
   "source": [
    "import os\n",
    "import cv2\n",
    "import numpy as np\n",
    "\n"
   ]
  },
  {
   "cell_type": "code",
   "execution_count": null,
   "metadata": {},
   "outputs": [],
   "source": [
    "\n",
    "# Sử dụng hàm để đọc ảnh từ thư mục \"hinhtrain\"\n",
    "image_data = load_images_in_folders(\"hinhtrain\")\n",
    "\n",
    "# Bây giờ, image_data chứa dữ liệu ảnh với cấu trúc: {tên thư mục: {tên ảnh: mảng NumPy}}"
   ]
  }
 ],
 "metadata": {
  "kernelspec": {
   "display_name": "env1",
   "language": "python",
   "name": "python3"
  },
  "language_info": {
   "name": "python",
   "version": "3.10.9"
  },
  "orig_nbformat": 4
 },
 "nbformat": 4,
 "nbformat_minor": 2
}
